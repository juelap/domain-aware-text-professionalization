{
 "cells": [
  {
   "cell_type": "code",
   "execution_count": 1,
   "metadata": {},
   "outputs": [
    {
     "name": "stderr",
     "output_type": "stream",
     "text": [
      "/opt/conda/lib/python3.7/site-packages/pandas/compat/_optional.py:138: UserWarning: Pandas requires version '2.7.0' or newer of 'numexpr' (version '2.6.9' currently installed).\n",
      "  warnings.warn(msg, UserWarning)\n"
     ]
    }
   ],
   "source": [
    "import pandas as pd\n",
    "from Levenshtein import *\n",
    "from tqdm import tqdm\n",
    "import csv"
   ]
  },
  {
   "cell_type": "code",
   "execution_count": 2,
   "metadata": {},
   "outputs": [],
   "source": [
    "# Loading SSCORPUS with similarity scores into a DataFrame\n",
    "\n",
    "column_names = ['Professional_Sentence', 'Simple_Sentence', 'Similarity_Score']\n",
    "df_sscorpus = pd.read_csv(\"sscorpus\", sep='\\t', header=None, names=column_names)\n",
    "#df_sscorpus.head(100)"
   ]
  },
  {
   "cell_type": "code",
   "execution_count": 4,
   "metadata": {},
   "outputs": [
    {
     "name": "stderr",
     "output_type": "stream",
     "text": [
      "492993it [00:21, 22917.65it/s]\n"
     ]
    }
   ],
   "source": [
    "# Calculating the Levenshtein scores for the simple and professional sentences\n",
    "\n",
    "sscorpus_levenshtein = []\n",
    "for index, row in tqdm(df_sscorpus.iterrows()):\n",
    "    professional = row['Professional_Sentence']\n",
    "    simple = row['Simple_Sentence']\n",
    "    normalized_distance = distance(simple, professional) / max(len(simple), len(professional))\n",
    "    if round(normalized_distance, 2) <= 0.6 and round(normalized_distance, 2) != 0.0:\n",
    "        sscorpus_levenshtein.append([simple, professional, round(normalized_distance, 2)])"
   ]
  },
  {
   "cell_type": "code",
   "execution_count": 5,
   "metadata": {},
   "outputs": [],
   "source": [
    "# Writing the SSCORPUS with Levenshtein scores into a CSV file\n",
    "\n",
    "with open('1_sscorpus_levenshtein_calculated/sscorpus_levenshtein_default_weights.csv', 'w+', newline='') as f:\n",
    "    write = csv.writer(f)\n",
    "    write.writerows(sscorpus_levenshtein)\n",
    "    f.close()"
   ]
  },
  {
   "cell_type": "code",
   "execution_count": null,
   "metadata": {},
   "outputs": [],
   "source": []
  }
 ],
 "metadata": {
  "kernelspec": {
   "display_name": "Python 3",
   "language": "python",
   "name": "python3"
  },
  "language_info": {
   "codemirror_mode": {
    "name": "ipython",
    "version": 3
   },
   "file_extension": ".py",
   "mimetype": "text/x-python",
   "name": "python",
   "nbconvert_exporter": "python",
   "pygments_lexer": "ipython3",
   "version": "3.7.3"
  }
 },
 "nbformat": 4,
 "nbformat_minor": 4
}
