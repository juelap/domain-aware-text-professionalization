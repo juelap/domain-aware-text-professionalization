{
 "cells": [
  {
   "cell_type": "code",
   "execution_count": 1,
   "metadata": {},
   "outputs": [
    {
     "name": "stderr",
     "output_type": "stream",
     "text": [
      "/opt/conda/lib/python3.7/site-packages/pandas/compat/_optional.py:138: UserWarning: Pandas requires version '2.7.0' or newer of 'numexpr' (version '2.6.9' currently installed).\n",
      "  warnings.warn(msg, UserWarning)\n"
     ]
    }
   ],
   "source": [
    "import pandas as pd\n",
    "from rapidfuzz.distance import Levenshtein\n",
    "from tqdm import tqdm\n",
    "import csv"
   ]
  },
  {
   "cell_type": "code",
   "execution_count": 2,
   "metadata": {},
   "outputs": [],
   "source": [
    "# Loading SSCORPUS with similarity scores into a DataFrame\n",
    "\n",
    "column_names = ['Professional_Sentence', 'Simple_Sentence', 'Similarity_Score']\n",
    "df_sscorpus = pd.read_csv(\"sscorpus\", sep='\\t', header=None, names=column_names)\n",
    "#df_sscorpus.head(100)"
   ]
  },
  {
   "cell_type": "code",
   "execution_count": 3,
   "metadata": {},
   "outputs": [
    {
     "name": "stderr",
     "output_type": "stream",
     "text": [
      "492993it [00:39, 12434.89it/s]\n"
     ]
    }
   ],
   "source": [
    "# Calculating the Levenshtein scores for the simple and professional sentences\n",
    "\n",
    "sscorpus_levenshtein_weighted = []\n",
    "for index, row in tqdm(df_sscorpus.iterrows()):\n",
    "    professional = row['Professional_Sentence']\n",
    "    simple = row['Simple_Sentence']\n",
    "    normalized_distance = Levenshtein.distance(simple, professional, weights=(3,1,2)) / max(len(simple), len(professional))\n",
    "    sscorpus_levenshtein_weighted.append([simple, professional, round(normalized_distance, 2)])"
   ]
  },
  {
   "cell_type": "code",
   "execution_count": 4,
   "metadata": {},
   "outputs": [],
   "source": [
    "# Converting list into pandas Dataframe for easier analysis\n",
    "\n",
    "column_names_levenshtein = ['Professional_Sentence', 'Simple_Sentence', 'Levenshtein_Score']\n",
    "df_sscorpus_levenshtein = pd.DataFrame (sscorpus_levenshtein_weighted, columns = column_names_levenshtein)\n",
    "#df_sscorpus_levenshtein.head(100)"
   ]
  },
  {
   "cell_type": "code",
   "execution_count": 10,
   "metadata": {},
   "outputs": [
    {
     "data": {
      "text/plain": [
       "492993"
      ]
     },
     "execution_count": 10,
     "metadata": {},
     "output_type": "execute_result"
    }
   ],
   "source": [
    "# Analysis for determining the number of entries lower or equal than a score\n",
    "\n",
    "# set the score according to need\n",
    "score = 3.0\n",
    "df_sscorpus_levenshtein.loc[ (df_sscorpus_levenshtein['Levenshtein_Score'] <= score) ].shape[0]"
   ]
  },
  {
   "cell_type": "code",
   "execution_count": 15,
   "metadata": {},
   "outputs": [
    {
     "data": {
      "text/plain": [
       "30"
      ]
     },
     "execution_count": 15,
     "metadata": {},
     "output_type": "execute_result"
    }
   ],
   "source": [
    "# Analysis for determining the number of entries in a range\n",
    "\n",
    "# set the min_score and max_score according to need\n",
    "min_score = 2.8\n",
    "max_score = 3.0\n",
    "\n",
    "df_sscorpus_levenshtein.loc[ (df_sscorpus_levenshtein['Levenshtein_Score'] > min_score) & (df_sscorpus_levenshtein['Levenshtein_Score'] <= max_score) ].shape[0]"
   ]
  },
  {
   "cell_type": "code",
   "execution_count": null,
   "metadata": {},
   "outputs": [],
   "source": []
  }
 ],
 "metadata": {
  "kernelspec": {
   "display_name": "Python 3",
   "language": "python",
   "name": "python3"
  },
  "language_info": {
   "codemirror_mode": {
    "name": "ipython",
    "version": 3
   },
   "file_extension": ".py",
   "mimetype": "text/x-python",
   "name": "python",
   "nbconvert_exporter": "python",
   "pygments_lexer": "ipython3",
   "version": "3.7.3"
  }
 },
 "nbformat": 4,
 "nbformat_minor": 4
}
