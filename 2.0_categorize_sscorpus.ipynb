{
 "cells": [
  {
   "cell_type": "code",
   "execution_count": null,
   "metadata": {},
   "outputs": [],
   "source": [
    "import pandas as pd\n",
    "from tqdm import tqdm\n",
    "from transformers import pipeline\n",
    "import wandb\n",
    "import pickle"
   ]
  },
  {
   "cell_type": "code",
   "execution_count": null,
   "metadata": {},
   "outputs": [],
   "source": [
    "wandb.init(project=\"categorize-sscorpus\")"
   ]
  },
  {
   "cell_type": "code",
   "execution_count": null,
   "metadata": {},
   "outputs": [],
   "source": [
    "# Define the categories in which SSCORPUS will be categorized\n",
    "\n",
    "labels = [\"Business\", \"Entertainment\", \"Geography\", \"Politics\", \"Science\", \"Sports\"]"
   ]
  },
  {
   "cell_type": "code",
   "execution_count": null,
   "metadata": {},
   "outputs": [],
   "source": [
    "# Initialize the classifier\n",
    "\n",
    "classifier = pipeline(\"zero-shot-classification\", device=0)"
   ]
  },
  {
   "cell_type": "code",
   "execution_count": null,
   "metadata": {},
   "outputs": [],
   "source": [
    "# Load the SSCORPUS containing Levenshtein scores\n",
    "\n",
    "columns = ['Simple', 'Professional', 'Levenshtein']\n",
    "path = \"1_sscorpus_levenshtein_calculated/sscorpus_levenshtein_final.csv\"\n",
    "df_levenshtein = pd.read_csv(path, sep=',', header=None, names=columns)\n",
    "\n",
    "simple_list = df_levenshtein['Simple'].values.tolist()\n",
    "professional_list = df_levenshtein['Professional'].values.tolist()"
   ]
  },
  {
   "cell_type": "code",
   "execution_count": null,
   "metadata": {},
   "outputs": [],
   "source": [
    "# Categorize the SSCORPUS\n",
    "\n",
    "# set the multi_label\n",
    "multi_label = True\n",
    "batch_size = 10\n",
    "results = []\n",
    "for i in tqdm(range(0, len(professional_list), batch_size)):\n",
    "    results += classifier(professional_list[i:i+batch_size], labels, multi_label=multi_label)"
   ]
  },
  {
   "cell_type": "code",
   "execution_count": null,
   "metadata": {},
   "outputs": [],
   "source": [
    "# Dump the categorized SSCORPUS on a file\n",
    "\n",
    "label = \"\"\n",
    "if multi_label:\n",
    "    label = \"multi_label_true\"\n",
    "else:\n",
    "    label = \"multi_label_false\"\n",
    "\n",
    "dump_path = \"2_sscorpus_categorized/\"+label+\"/scorpus_categorized_raw\"\n",
    "fout = open(dump_path, 'wb')\n",
    "pickle.dump(results, fout)\n",
    "fout.close()"
   ]
  }
 ],
 "metadata": {
  "kernelspec": {
   "display_name": "Python 3",
   "language": "python",
   "name": "python3"
  },
  "language_info": {
   "codemirror_mode": {
    "name": "ipython",
    "version": 3
   },
   "file_extension": ".py",
   "mimetype": "text/x-python",
   "name": "python",
   "nbconvert_exporter": "python",
   "pygments_lexer": "ipython3",
   "version": "3.7.3"
  }
 },
 "nbformat": 4,
 "nbformat_minor": 4
}
