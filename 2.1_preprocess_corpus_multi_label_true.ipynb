{
 "cells": [
  {
   "cell_type": "code",
   "execution_count": 1,
   "metadata": {},
   "outputs": [
    {
     "name": "stderr",
     "output_type": "stream",
     "text": [
      "/opt/conda/lib/python3.7/site-packages/pandas/compat/_optional.py:138: UserWarning: Pandas requires version '2.7.0' or newer of 'numexpr' (version '2.6.9' currently installed).\n",
      "  warnings.warn(msg, UserWarning)\n"
     ]
    }
   ],
   "source": [
    "import pandas as pd\n",
    "import csv\n",
    "import pickle"
   ]
  },
  {
   "cell_type": "code",
   "execution_count": 2,
   "metadata": {},
   "outputs": [],
   "source": [
    "# Load the SSCORPUS that is preprocessed with Levenshtein\n",
    "\n",
    "columns = ['Simple', 'Professional', 'Levenshtein']\n",
    "path = \"1_sscorpus_levenshtein_calculated/sscorpus_levenshtein_final.csv\"\n",
    "df_levenshtein = pd.read_csv(path, sep=',', header=None, names=columns)\n",
    "\n",
    "simple_list = df_levenshtein['Simple'].values.tolist()\n",
    "professional_list = df_levenshtein['Professional'].values.tolist()"
   ]
  },
  {
   "cell_type": "code",
   "execution_count": 3,
   "metadata": {},
   "outputs": [],
   "source": [
    "# Load the categorized SSCORPUS\n",
    "\n",
    "dump_root_path = \"2_sscorpus_categorized/multi_label_true/\"\n",
    "\n",
    "fin = open(dump_root_path+\"scorpus_categorized_raw\", 'rb')\n",
    "results = pickle.load(fin)\n",
    "fin.close()"
   ]
  },
  {
   "cell_type": "code",
   "execution_count": 4,
   "metadata": {},
   "outputs": [],
   "source": [
    "# Preprocess and save the categorized SSCORPUS for further annotation for only specific categories\n",
    "\n",
    "min_score = 0.3\n",
    "categorized_sscorpus_specific = []\n",
    "for index_result, result in enumerate(results):\n",
    "    for index_score, score in enumerate(result['scores']):\n",
    "        if round(score, 2) >= min_score:\n",
    "            categorized_sscorpus_specific.append([ simple_list[index_result], result['sequence'], result['labels'][index_score], round(score, 2) ])\n",
    "            \n",
    "with open(dump_root_path+'initial/sscorpus_categorized_preprocessed_specific.csv', 'w+', newline='') as f:\n",
    "    write = csv.writer(f)\n",
    "    write.writerows(categorized_sscorpus_specific)\n",
    "    f.close()"
   ]
  },
  {
   "cell_type": "code",
   "execution_count": 5,
   "metadata": {},
   "outputs": [],
   "source": [
    "# Preprocess and save the categorized SSCORPUS for further annotation for the full corpus\n",
    "min_score = 0.3\n",
    "categorized_sscorpus_full = []\n",
    "for index, result in enumerate(results):\n",
    "    if round(result['scores'][0], 2) >= min_score:\n",
    "        categorized_sscorpus_full.append([ simple_list[index], result['sequence'], result['labels'][0], round(result['scores'][0], 2) ])\n",
    "\n",
    "with open(dump_root_path+'initial/sscorpus_categorized_preprocessed_full.csv', 'w+', newline='') as f:\n",
    "    write = csv.writer(f)\n",
    "    write.writerows(categorized_sscorpus_full)\n",
    "    f.close()"
   ]
  },
  {
   "cell_type": "code",
   "execution_count": 12,
   "metadata": {},
   "outputs": [],
   "source": [
    "# Convert list into pandas Dataframe for easier analysis\n",
    "\n",
    "#categorized_columns = [\"Simple\", \"Professional\", \"Category\", \"Score\"]\n",
    "#df_sscorpus_categorized = pd.DataFrame(categorized_sscorpus_specific, columns=categorized_columns)"
   ]
  },
  {
   "cell_type": "code",
   "execution_count": 18,
   "metadata": {},
   "outputs": [
    {
     "data": {
      "text/plain": [
       "17932"
      ]
     },
     "execution_count": 18,
     "metadata": {},
     "output_type": "execute_result"
    }
   ],
   "source": [
    "# Analysis for the spreading of entries according to category\n",
    "\n",
    "#category = \"Sports\"\n",
    "#df_sscorpus_categorized[df_sscorpus_categorized.Category == category].shape[0]"
   ]
  },
  {
   "cell_type": "code",
   "execution_count": null,
   "metadata": {},
   "outputs": [],
   "source": []
  }
 ],
 "metadata": {
  "kernelspec": {
   "display_name": "Python 3",
   "language": "python",
   "name": "python3"
  },
  "language_info": {
   "codemirror_mode": {
    "name": "ipython",
    "version": 3
   },
   "file_extension": ".py",
   "mimetype": "text/x-python",
   "name": "python",
   "nbconvert_exporter": "python",
   "pygments_lexer": "ipython3",
   "version": "3.7.3"
  }
 },
 "nbformat": 4,
 "nbformat_minor": 4
}
