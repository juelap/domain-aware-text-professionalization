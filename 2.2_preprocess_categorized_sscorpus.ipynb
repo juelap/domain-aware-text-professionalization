{
 "cells": [
  {
   "cell_type": "code",
   "execution_count": 1,
   "metadata": {},
   "outputs": [
    {
     "name": "stderr",
     "output_type": "stream",
     "text": [
      "/opt/conda/lib/python3.7/site-packages/pandas/compat/_optional.py:138: UserWarning: Pandas requires version '2.7.0' or newer of 'numexpr' (version '2.6.9' currently installed).\n",
      "  warnings.warn(msg, UserWarning)\n"
     ]
    }
   ],
   "source": [
    "import pandas as pd\n",
    "import csv\n",
    "import pickle"
   ]
  },
  {
   "cell_type": "code",
   "execution_count": 2,
   "metadata": {},
   "outputs": [],
   "source": [
    "# Load the SSCORPUS that is preprocessed with Levenshtein\n",
    "\n",
    "columns = ['Simple', 'Professional', 'Levenshtein']\n",
    "path = \"sscorpus_levenshtein_weighted_trimmed.csv\"\n",
    "df_levenshtein = pd.read_csv(path, sep=',', header=None, names=columns)\n",
    "\n",
    "simple_list = df_levenshtein['Simple'].values.tolist()\n",
    "professional_list = df_levenshtein['Professional'].values.tolist()"
   ]
  },
  {
   "cell_type": "code",
   "execution_count": 3,
   "metadata": {},
   "outputs": [],
   "source": [
    "# Load the categorized SSCORPUS\n",
    "\n",
    "dump_root_path = \"2_sscorpus_categorized/multi_label_true/\"\n",
    "\n",
    "fin = open(dump_root_path+\"scorpus_categorized_raw\", 'rb')\n",
    "results = pickle.load(fin)\n",
    "fin.close()"
   ]
  },
  {
   "cell_type": "code",
   "execution_count": 4,
   "metadata": {},
   "outputs": [],
   "source": [
    "# Preprocess and save the categorized SSCORPUS for further annotation for only specific categories\n",
    "\n",
    "min_score = 0.6\n",
    "categorized_sscorpus_specific = []\n",
    "for index_result, result in enumerate(results):\n",
    "    for index_score, score in enumerate(result['scores']):\n",
    "        if round(score, 2) >= min_score:\n",
    "            categorized_sscorpus_specific.append([ simple_list[index_result], result['sequence'], result['labels'][index_score], round(score, 2) ])\n",
    "            \n",
    "with open(dump_root_path+'sscorpus_categorized_preprocessed_specific.csv', 'w+', newline='') as f:\n",
    "    write = csv.writer(f)\n",
    "    write.writerows(categorized_sscorpus_specific)\n",
    "    f.close()"
   ]
  },
  {
   "cell_type": "code",
   "execution_count": 5,
   "metadata": {},
   "outputs": [],
   "source": [
    "# Preprocess and save the categorized SSCORPUS for further annotation for the full corpus\n",
    "min_score = 0.6\n",
    "categorized_sscorpus_full = []\n",
    "for index, result in enumerate(results):\n",
    "    if round(result['scores'][0], 2) >= min_score:\n",
    "        categorized_sscorpus_full.append([ simple_list[index], result['sequence'], result['labels'][0], round(result['scores'][0], 2) ])\n",
    "\n",
    "with open(dump_root_path+'sscorpus_categorized_preprocessed_full.csv', 'w+', newline='') as f:\n",
    "    write = csv.writer(f)\n",
    "    write.writerows(categorized_sscorpus_full)\n",
    "    f.close()"
   ]
  },
  {
   "cell_type": "code",
   "execution_count": 6,
   "metadata": {},
   "outputs": [],
   "source": [
    "df = pd.DataFrame(results)"
   ]
  },
  {
   "cell_type": "code",
   "execution_count": 7,
   "metadata": {},
   "outputs": [
    {
     "data": {
      "text/html": [
       "<div>\n",
       "<style scoped>\n",
       "    .dataframe tbody tr th:only-of-type {\n",
       "        vertical-align: middle;\n",
       "    }\n",
       "\n",
       "    .dataframe tbody tr th {\n",
       "        vertical-align: top;\n",
       "    }\n",
       "\n",
       "    .dataframe thead th {\n",
       "        text-align: right;\n",
       "    }\n",
       "</style>\n",
       "<table border=\"1\" class=\"dataframe\">\n",
       "  <thead>\n",
       "    <tr style=\"text-align: right;\">\n",
       "      <th></th>\n",
       "      <th>sequence</th>\n",
       "      <th>labels</th>\n",
       "      <th>scores</th>\n",
       "    </tr>\n",
       "  </thead>\n",
       "  <tbody>\n",
       "    <tr>\n",
       "      <th>0</th>\n",
       "      <td>Following the revolution , he organized the fi...</td>\n",
       "      <td>[Science, Geography, Politics, Business, Enter...</td>\n",
       "      <td>[0.5442123413085938, 0.45499250292778015, 0.41...</td>\n",
       "    </tr>\n",
       "    <tr>\n",
       "      <th>1</th>\n",
       "      <td>Other nearby towns include Haywards Heath to t...</td>\n",
       "      <td>[Geography, Entertainment, Business, Sports, S...</td>\n",
       "      <td>[0.6803065538406372, 0.4099675714969635, 0.332...</td>\n",
       "    </tr>\n",
       "    <tr>\n",
       "      <th>2</th>\n",
       "      <td>The project comprised Mei Foo Interchange ( mo...</td>\n",
       "      <td>[Business, Geography, Science, Entertainment, ...</td>\n",
       "      <td>[0.05995679274201393, 0.05488485470414162, 0.0...</td>\n",
       "    </tr>\n",
       "    <tr>\n",
       "      <th>3</th>\n",
       "      <td>Pepsi encouraged price-watching consumers to s...</td>\n",
       "      <td>[Business, Science, Geography, Politics, Enter...</td>\n",
       "      <td>[0.44036734104156494, 0.08749376237392426, 0.0...</td>\n",
       "    </tr>\n",
       "    <tr>\n",
       "      <th>4</th>\n",
       "      <td>In Britain , musical comedian Mitch Benn has p...</td>\n",
       "      <td>[Entertainment, Business, Politics, Sports, Ge...</td>\n",
       "      <td>[0.9314631819725037, 0.010503726080060005, 0.0...</td>\n",
       "    </tr>\n",
       "  </tbody>\n",
       "</table>\n",
       "</div>"
      ],
      "text/plain": [
       "                                            sequence  \\\n",
       "0  Following the revolution , he organized the fi...   \n",
       "1  Other nearby towns include Haywards Heath to t...   \n",
       "2  The project comprised Mei Foo Interchange ( mo...   \n",
       "3  Pepsi encouraged price-watching consumers to s...   \n",
       "4  In Britain , musical comedian Mitch Benn has p...   \n",
       "\n",
       "                                              labels  \\\n",
       "0  [Science, Geography, Politics, Business, Enter...   \n",
       "1  [Geography, Entertainment, Business, Sports, S...   \n",
       "2  [Business, Geography, Science, Entertainment, ...   \n",
       "3  [Business, Science, Geography, Politics, Enter...   \n",
       "4  [Entertainment, Business, Politics, Sports, Ge...   \n",
       "\n",
       "                                              scores  \n",
       "0  [0.5442123413085938, 0.45499250292778015, 0.41...  \n",
       "1  [0.6803065538406372, 0.4099675714969635, 0.332...  \n",
       "2  [0.05995679274201393, 0.05488485470414162, 0.0...  \n",
       "3  [0.44036734104156494, 0.08749376237392426, 0.0...  \n",
       "4  [0.9314631819725037, 0.010503726080060005, 0.0...  "
      ]
     },
     "execution_count": 7,
     "metadata": {},
     "output_type": "execute_result"
    }
   ],
   "source": [
    "df.head(5)"
   ]
  },
  {
   "cell_type": "code",
   "execution_count": 10,
   "metadata": {},
   "outputs": [
    {
     "data": {
      "text/plain": [
       "sequence    Following the revolution , he organized the fi...\n",
       "labels      [Science, Geography, Politics, Business, Enter...\n",
       "scores      [0.5442123413085938, 0.45499250292778015, 0.41...\n",
       "Name: 0, dtype: object"
      ]
     },
     "execution_count": 10,
     "metadata": {},
     "output_type": "execute_result"
    }
   ],
   "source": [
    "df.iloc[0]"
   ]
  },
  {
   "cell_type": "code",
   "execution_count": null,
   "metadata": {},
   "outputs": [],
   "source": [
    "min_score = 0.3\n",
    "categorized_sscorpus_full = []\n",
    "for index, result in enumerate(results):\n",
    "    if round(result['scores'][0], 2) >= min_score:\n",
    "        categorized_sscorpus_full.append([ simple_list[index], result['sequence'], result['labels'][0], round(result['scores'][0], 2) ])"
   ]
  }
 ],
 "metadata": {
  "kernelspec": {
   "display_name": "Python 3",
   "language": "python",
   "name": "python3"
  },
  "language_info": {
   "codemirror_mode": {
    "name": "ipython",
    "version": 3
   },
   "file_extension": ".py",
   "mimetype": "text/x-python",
   "name": "python",
   "nbconvert_exporter": "python",
   "pygments_lexer": "ipython3",
   "version": "3.7.3"
  }
 },
 "nbformat": 4,
 "nbformat_minor": 4
}
