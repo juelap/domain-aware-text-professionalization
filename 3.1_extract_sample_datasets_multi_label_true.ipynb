{
 "cells": [
  {
   "cell_type": "code",
   "execution_count": 1,
   "metadata": {},
   "outputs": [
    {
     "name": "stderr",
     "output_type": "stream",
     "text": [
      "/opt/conda/lib/python3.7/site-packages/pandas/compat/_optional.py:138: UserWarning: Pandas requires version '2.7.0' or newer of 'numexpr' (version '2.6.9' currently installed).\n",
      "  warnings.warn(msg, UserWarning)\n"
     ]
    }
   ],
   "source": [
    "import pandas as pd"
   ]
  },
  {
   "cell_type": "code",
   "execution_count": 2,
   "metadata": {},
   "outputs": [
    {
     "data": {
      "text/plain": [
       "(115159, 4)"
      ]
     },
     "execution_count": 2,
     "metadata": {},
     "output_type": "execute_result"
    }
   ],
   "source": [
    "# Load categorized corpus when multi_label is True\n",
    "\n",
    "columns = ['Simple', 'Professional', 'Category', 'Score']\n",
    "sscorpus_categorized_path = \"2_sscorpus_categorized/multi_label_true/initial/sscorpus_categorized_preprocessed_specific.csv\"\n",
    "df_sscorpus_categorized = pd.read_csv(sscorpus_categorized_path, sep=',', header=None, names=columns)\n",
    "#df_sscorpus_categorized.head(5)\n",
    "df_sscorpus_categorized.shape"
   ]
  },
  {
   "cell_type": "code",
   "execution_count": 3,
   "metadata": {},
   "outputs": [],
   "source": [
    "# Extract 100 samples for every category and write into one CSV file\n",
    "\n",
    "df_final_sample_dataset = pd.DataFrame(columns=columns)\n",
    "categories = [\"Business\", \"Entertainment\", \"Geography\", \"Politics\", \"Science\", \"Sports\"]\n",
    "annotations_root_path = \"3_sscorpus_sample_datasets_annotated/multi_label_true/final/\"\n",
    "for category in categories:\n",
    "    df_category = df_sscorpus_categorized.loc[(df_sscorpus_categorized['Category'] == category)].sample(n=100)\n",
    "    df_final_sample_dataset = df_final_sample_dataset.append(df_category, ignore_index=True)\n",
    "\n",
    "df_final_sample_dataset.to_csv(annotations_root_path+\"annotated_sample.csv\", sep=',', header=None, index=False, encoding='utf-8')"
   ]
  },
  {
   "cell_type": "code",
   "execution_count": null,
   "metadata": {},
   "outputs": [],
   "source": []
  }
 ],
 "metadata": {
  "kernelspec": {
   "display_name": "Python 3",
   "language": "python",
   "name": "python3"
  },
  "language_info": {
   "codemirror_mode": {
    "name": "ipython",
    "version": 3
   },
   "file_extension": ".py",
   "mimetype": "text/x-python",
   "name": "python",
   "nbconvert_exporter": "python",
   "pygments_lexer": "ipython3",
   "version": "3.7.3"
  }
 },
 "nbformat": 4,
 "nbformat_minor": 4
}
