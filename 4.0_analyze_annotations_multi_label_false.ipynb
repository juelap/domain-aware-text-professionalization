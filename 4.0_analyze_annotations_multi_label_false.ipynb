{
 "cells": [
  {
   "cell_type": "code",
   "execution_count": 1,
   "metadata": {},
   "outputs": [
    {
     "name": "stderr",
     "output_type": "stream",
     "text": [
      "/opt/conda/lib/python3.7/site-packages/pandas/compat/_optional.py:138: UserWarning: Pandas requires version '2.7.0' or newer of 'numexpr' (version '2.6.9' currently installed).\n",
      "  warnings.warn(msg, UserWarning)\n"
     ]
    }
   ],
   "source": [
    "import pandas as pd"
   ]
  },
  {
   "cell_type": "code",
   "execution_count": 2,
   "metadata": {},
   "outputs": [
    {
     "data": {
      "text/plain": [
       "(300, 5)"
      ]
     },
     "execution_count": 2,
     "metadata": {},
     "output_type": "execute_result"
    }
   ],
   "source": [
    "# Load the annotated dataset\n",
    "\n",
    "# set the path of the annotated dataset\n",
    "path = \"3_sscorpus_sample_datasets_annotated/multi_label_false/final/annotated_Business.csv\"\n",
    "\n",
    "columns = ['Simple', 'Professional', 'Category', 'Score', 'Annotation']\n",
    "df_sscorpus_annotated = pd.read_csv(path, sep=',', header=None, names=columns)\n",
    "#df_sscorpus_annotated.head(5)\n",
    "df_sscorpus_annotated.shape\n",
    "#df_sscorpus_annotated.dtypes"
   ]
  },
  {
   "cell_type": "code",
   "execution_count": 3,
   "metadata": {},
   "outputs": [
    {
     "data": {
      "text/html": [
       "<div>\n",
       "<style scoped>\n",
       "    .dataframe tbody tr th:only-of-type {\n",
       "        vertical-align: middle;\n",
       "    }\n",
       "\n",
       "    .dataframe tbody tr th {\n",
       "        vertical-align: top;\n",
       "    }\n",
       "\n",
       "    .dataframe thead th {\n",
       "        text-align: right;\n",
       "    }\n",
       "</style>\n",
       "<table border=\"1\" class=\"dataframe\">\n",
       "  <thead>\n",
       "    <tr style=\"text-align: right;\">\n",
       "      <th></th>\n",
       "      <th>Simple</th>\n",
       "      <th>Professional</th>\n",
       "      <th>Category</th>\n",
       "      <th>Score</th>\n",
       "      <th>Annotation</th>\n",
       "    </tr>\n",
       "  </thead>\n",
       "  <tbody>\n",
       "  </tbody>\n",
       "</table>\n",
       "</div>"
      ],
      "text/plain": [
       "Empty DataFrame\n",
       "Columns: [Simple, Professional, Category, Score, Annotation]\n",
       "Index: []"
      ]
     },
     "execution_count": 3,
     "metadata": {},
     "output_type": "execute_result"
    }
   ],
   "source": [
    "# Analysis to make sure that no entry is forgotten to be annotated\n",
    "\n",
    "#df_sscorpus_annotated['Annotation'].isnull().sum()\n",
    "df_sscorpus_annotated[df_sscorpus_annotated['Annotation'].isnull()]"
   ]
  },
  {
   "cell_type": "code",
   "execution_count": 4,
   "metadata": {},
   "outputs": [],
   "source": [
    "# Set the minimum probability score\n",
    "\n",
    "score = 0.38"
   ]
  },
  {
   "cell_type": "code",
   "execution_count": 5,
   "metadata": {},
   "outputs": [],
   "source": [
    "# Annotated samples that are part of the respective category and have a probability higher than the min score\n",
    "\n",
    "annotated_samples = df_sscorpus_annotated.loc[(df_sscorpus_annotated['Annotation'] == 1) & (df_sscorpus_annotated['Score'] >= score)].shape[0]"
   ]
  },
  {
   "cell_type": "code",
   "execution_count": 6,
   "metadata": {},
   "outputs": [],
   "source": [
    "# All samples that have a probability higher than the min score\n",
    "\n",
    "all_samples = df_sscorpus_annotated.loc[(df_sscorpus_annotated['Score'] >= score)].shape[0]"
   ]
  },
  {
   "cell_type": "code",
   "execution_count": 7,
   "metadata": {},
   "outputs": [
    {
     "name": "stdout",
     "output_type": "stream",
     "text": [
      "91\n",
      "101\n",
      "0.900990099009901\n"
     ]
    }
   ],
   "source": [
    "# Try out different minimum probability scores and stop when reaching at least 90 percent\n",
    "\n",
    "print(annotated_samples)\n",
    "print(all_samples)\n",
    "print(annotated_samples/all_samples)"
   ]
  },
  {
   "cell_type": "code",
   "execution_count": null,
   "metadata": {},
   "outputs": [],
   "source": []
  }
 ],
 "metadata": {
  "kernelspec": {
   "display_name": "Python 3",
   "language": "python",
   "name": "python3"
  },
  "language_info": {
   "codemirror_mode": {
    "name": "ipython",
    "version": 3
   },
   "file_extension": ".py",
   "mimetype": "text/x-python",
   "name": "python",
   "nbconvert_exporter": "python",
   "pygments_lexer": "ipython3",
   "version": "3.7.3"
  }
 },
 "nbformat": 4,
 "nbformat_minor": 4
}
