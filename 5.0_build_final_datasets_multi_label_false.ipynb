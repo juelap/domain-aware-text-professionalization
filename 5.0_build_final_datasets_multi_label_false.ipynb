{
 "cells": [
  {
   "cell_type": "code",
   "execution_count": 1,
   "metadata": {},
   "outputs": [
    {
     "name": "stderr",
     "output_type": "stream",
     "text": [
      "/opt/conda/lib/python3.7/site-packages/pandas/compat/_optional.py:138: UserWarning: Pandas requires version '2.7.0' or newer of 'numexpr' (version '2.6.9' currently installed).\n",
      "  warnings.warn(msg, UserWarning)\n"
     ]
    }
   ],
   "source": [
    "import pandas as pd\n",
    "from sklearn.model_selection import train_test_split"
   ]
  },
  {
   "cell_type": "code",
   "execution_count": 2,
   "metadata": {},
   "outputs": [
    {
     "data": {
      "text/plain": [
       "(115950, 4)"
      ]
     },
     "execution_count": 2,
     "metadata": {},
     "output_type": "execute_result"
    }
   ],
   "source": [
    "# Load the corpus for multi_label as False\n",
    "\n",
    "columns = ['Simple', 'Professional', 'Category', 'Score']\n",
    "path = \"2_sscorpus_categorized/multi_label_false/scorpus_categorized_raw\"\n",
    "df_sscorpus_categorized = pd.read_csv(path, sep=',', header=None, names=columns)\n",
    "#df_sscorpus_categorized.head(5)\n",
    "df_sscorpus_categorized.shape"
   ]
  },
  {
   "cell_type": "code",
   "execution_count": 3,
   "metadata": {},
   "outputs": [],
   "source": [
    "# Set the minimum probability scores for each category that were obtained after annotations\n",
    "\n",
    "datasets_info = [ [\"Business\", 0.38], [\"Entertainment\", 0.37], [\"Geography\", 0.3], \n",
    "                  [\"Politics\", 0.39], [\"Science\", 0.3], [\"Sports\", 0.27] ]"
   ]
  },
  {
   "cell_type": "code",
   "execution_count": 4,
   "metadata": {},
   "outputs": [],
   "source": [
    "# Create datasets based on category and split them into train, validation, test\n",
    "\n",
    "for dataset_info in datasets_info:\n",
    "    category = dataset_info[0]\n",
    "    score = dataset_info[1]\n",
    "    df_dataset = df_sscorpus_categorized.loc[(df_sscorpus_categorized['Category'] == category) & (df_sscorpus_categorized['Score'] >= score)]\n",
    "    df_dataset_subset = df_dataset[['Simple', 'Professional']]\n",
    "    df_dataset_subset.to_csv(\"4_sscorpus_final_datasets/multi_label_false/\"+category+\"/\"+category.lower()+\".csv\", sep=',', header=None, index=False, encoding='utf-8')\n",
    "    df_train, df_tmp = train_test_split(df_dataset_subset, test_size=0.2)\n",
    "    df_eval, df_test = train_test_split(df_tmp, test_size=0.5)\n",
    "    df_train.to_csv(\"4_sscorpus_final_datasets/multi_label_false/\"+category+\"/train/train.csv\", sep=',', header=None, index=False, encoding='utf-8')\n",
    "    df_eval.to_csv(\"4_sscorpus_final_datasets/multi_label_false/\"+category+\"/eval/eval.csv\", sep=',', header=None, index=False, encoding='utf-8')\n",
    "    df_test.to_csv(\"4_sscorpus_final_datasets/multi_label_false/\"+category+\"/test/test.csv\", sep=',', header=None, index=False, encoding='utf-8')"
   ]
  },
  {
   "cell_type": "code",
   "execution_count": 5,
   "metadata": {},
   "outputs": [],
   "source": [
    "# Create the corpus based on concatenation of all 6 datasets and split it into train, validation, test\n",
    "\n",
    "df_business = pd.read_csv(\"4_sscorpus_final_datasets/multi_label_false/Business/business.csv\", sep=',', header=None, names=['Simple', 'Professional'])\n",
    "df_entertainment = pd.read_csv(\"4_sscorpus_final_datasets/multi_label_false/Entertainment/entertainment.csv\", sep=',', header=None, names=['Simple', 'Professional'])\n",
    "df_geography = pd.read_csv(\"4_sscorpus_final_datasets/multi_label_false/Geography/geography.csv\", sep=',', header=None, names=['Simple', 'Professional'])\n",
    "df_politics = pd.read_csv(\"4_sscorpus_final_datasets/multi_label_false/Politics/politics.csv\", sep=',', header=None, names=['Simple', 'Professional'])\n",
    "df_science = pd.read_csv(\"4_sscorpus_final_datasets/multi_label_false/Science/science.csv\", sep=',', header=None, names=['Simple', 'Professional'])\n",
    "df_sports = pd.read_csv(\"4_sscorpus_final_datasets/multi_label_false/Sports/sports.csv\", sep=',', header=None, names=['Simple', 'Professional'])\n",
    "\n",
    "frames = [df_business, df_entertainment, df_geography, df_politics, df_science, df_sports]\n",
    "df_all = pd.concat(frames)\n",
    "df_all.to_csv(\"4_sscorpus_final_datasets/multi_label_false/All/all.csv\", sep=',', header=None, index=False, encoding='utf-8')\n",
    "df_all_train, df_all_tmp = train_test_split(df_all, test_size=0.2)\n",
    "df_all_eval, df_all_test = train_test_split(df_all_tmp, test_size=0.5)\n",
    "df_all_train.to_csv(\"4_sscorpus_final_datasets/multi_label_false/All/train/train.csv\", sep=',', header=None, index=False, encoding='utf-8')\n",
    "df_all_eval.to_csv(\"4_sscorpus_final_datasets/multi_label_false/All/eval/eval.csv\", sep=',', header=None, index=False, encoding='utf-8')\n",
    "df_all_test.to_csv(\"4_sscorpus_final_datasets/multi_label_false/All/test/test.csv\", sep=',', header=None, index=False, encoding='utf-8')"
   ]
  },
  {
   "cell_type": "code",
   "execution_count": null,
   "metadata": {},
   "outputs": [],
   "source": []
  }
 ],
 "metadata": {
  "kernelspec": {
   "display_name": "Python 3",
   "language": "python",
   "name": "python3"
  },
  "language_info": {
   "codemirror_mode": {
    "name": "ipython",
    "version": 3
   },
   "file_extension": ".py",
   "mimetype": "text/x-python",
   "name": "python",
   "nbconvert_exporter": "python",
   "pygments_lexer": "ipython3",
   "version": "3.7.3"
  }
 },
 "nbformat": 4,
 "nbformat_minor": 4
}
