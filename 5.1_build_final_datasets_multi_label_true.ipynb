{
 "cells": [
  {
   "cell_type": "code",
   "execution_count": 1,
   "metadata": {},
   "outputs": [
    {
     "name": "stderr",
     "output_type": "stream",
     "text": [
      "/opt/conda/lib/python3.7/site-packages/pandas/compat/_optional.py:138: UserWarning: Pandas requires version '2.7.0' or newer of 'numexpr' (version '2.6.9' currently installed).\n",
      "  warnings.warn(msg, UserWarning)\n"
     ]
    }
   ],
   "source": [
    "import pandas as pd\n",
    "from sklearn.model_selection import train_test_split"
   ]
  },
  {
   "cell_type": "code",
   "execution_count": 2,
   "metadata": {},
   "outputs": [
    {
     "data": {
      "text/plain": [
       "(52830, 4)"
      ]
     },
     "execution_count": 2,
     "metadata": {},
     "output_type": "execute_result"
    }
   ],
   "source": [
    "# Load the corpus for multi_label as True\n",
    "\n",
    "columns = ['Simple', 'Professional', 'Category', 'Score']\n",
    "path_specific = \"2_sscorpus_categorized/multi_label_true/sscorpus_categorized_preprocessed_specific.csv\"\n",
    "df_sscorpus_categorized = pd.read_csv(path_specific, sep=',', header=None, names=columns)\n",
    "#df_sscorpus_categorized.head(5)\n",
    "df_sscorpus_categorized.shape"
   ]
  },
  {
   "cell_type": "code",
   "execution_count": 3,
   "metadata": {},
   "outputs": [],
   "source": [
    "# Set the 6 categories\n",
    "\n",
    "categories = [\"Business\", \"Entertainment\", \"Geography\", \"Politics\", \"Science\", \"Sports\"]"
   ]
  },
  {
   "cell_type": "code",
   "execution_count": 4,
   "metadata": {},
   "outputs": [],
   "source": [
    "for category in categories:\n",
    "    df_dataset = df_sscorpus_categorized.loc[(df_sscorpus_categorized['Category'] == category)]\n",
    "    df_dataset_subset = df_dataset[['Simple', 'Professional']]\n",
    "    df_dataset_subset.to_csv(\"4_sscorpus_final_datasets/multi_label_true/\"+category+\"/\"+category.lower()+\".csv\", sep=',', header=None, index=False, encoding='utf-8')\n",
    "    df_train, df_tmp = train_test_split(df_dataset_subset, test_size=0.2)\n",
    "    df_eval, df_test = train_test_split(df_tmp, test_size=0.5)\n",
    "    df_train.to_csv(\"4_sscorpus_final_datasets/multi_label_true/\"+category+\"/train/train.csv\", sep=',', header=None, index=False, encoding='utf-8')\n",
    "    df_eval.to_csv(\"4_sscorpus_final_datasets/multi_label_true/\"+category+\"/eval/eval.csv\", sep=',', header=None, index=False, encoding='utf-8')\n",
    "    df_test.to_csv(\"4_sscorpus_final_datasets/multi_label_true/\"+category+\"/test/test.csv\", sep=',', header=None, index=False, encoding='utf-8')"
   ]
  },
  {
   "cell_type": "code",
   "execution_count": 5,
   "metadata": {},
   "outputs": [],
   "source": [
    "# Create the corpus and split it into train, validation, test\n",
    "\n",
    "columns = ['Simple', 'Professional', 'Category', 'Score']\n",
    "path_full = \"2_sscorpus_categorized/multi_label_true/sscorpus_categorized_preprocessed_full.csv\"\n",
    "df_sscorpus_all = pd.read_csv(path_full, sep=',', header=None, names=columns)\n",
    "#df_sscorpus_all.head(5)\n",
    "df_sscorpus_all.shape\n",
    "\n",
    "df_all = df_sscorpus_all[['Simple', 'Professional']]\n",
    "\n",
    "df_all.to_csv(\"4_sscorpus_final_datasets/multi_label_true/All/all.csv\", sep=',', header=None, index=False, encoding='utf-8')\n",
    "\n",
    "df_all_train, df_all_tmp = train_test_split(df_all, test_size=0.2)\n",
    "df_all_eval, df_all_test = train_test_split(df_all_tmp, test_size=0.5)\n",
    "df_all_train.to_csv(\"4_sscorpus_final_datasets/multi_label_true/All/train/train.csv\", sep=',', header=None, index=False, encoding='utf-8')\n",
    "df_all_eval.to_csv(\"4_sscorpus_final_datasets/multi_label_true/All/eval/eval.csv\", sep=',', header=None, index=False, encoding='utf-8')\n",
    "df_all_test.to_csv(\"4_sscorpus_final_datasets/multi_label_true/All/test/test.csv\", sep=',', header=None, index=False, encoding='utf-8')"
   ]
  },
  {
   "cell_type": "code",
   "execution_count": null,
   "metadata": {},
   "outputs": [],
   "source": []
  }
 ],
 "metadata": {
  "kernelspec": {
   "display_name": "Python 3",
   "language": "python",
   "name": "python3"
  },
  "language_info": {
   "codemirror_mode": {
    "name": "ipython",
    "version": 3
   },
   "file_extension": ".py",
   "mimetype": "text/x-python",
   "name": "python",
   "nbconvert_exporter": "python",
   "pygments_lexer": "ipython3",
   "version": "3.7.3"
  }
 },
 "nbformat": 4,
 "nbformat_minor": 4
}
