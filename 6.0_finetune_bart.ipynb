{
 "cells": [
  {
   "cell_type": "code",
   "execution_count": null,
   "metadata": {},
   "outputs": [],
   "source": [
    "import logging\n",
    "import pandas as pd\n",
    "from pprint import pprint\n",
    "from simpletransformers.seq2seq import Seq2SeqModel, Seq2SeqArgs"
   ]
  },
  {
   "cell_type": "code",
   "execution_count": null,
   "metadata": {},
   "outputs": [],
   "source": [
    "logging.basicConfig(level=logging.INFO)\n",
    "transformers_logger = logging.getLogger(\"transformers\")\n",
    "transformers_logger.setLevel(logging.ERROR)"
   ]
  },
  {
   "cell_type": "code",
   "execution_count": null,
   "metadata": {},
   "outputs": [],
   "source": [
    "# Load the train and eval datasets\n",
    "\n",
    "# set the needed dataset\n",
    "dataset = \"All\"\n",
    "columns = [\"input_text\", \"target_text\"]\n",
    "\n",
    "path_train = \"4_sscorpus_final_datasets/multi_label_false/\"+dataset+\"/train/train.csv\"\n",
    "df_train = pd.read_csv(path_train, sep=',', header=None, names=columns)\n",
    "#df_train.head(5)\n",
    "print(df_train.shape)\n",
    "\n",
    "path_eval = \"4_sscorpus_final_datasets/multi_label_false/\"+dataset+\"/eval/eval.csv\"\n",
    "df_eval = pd.read_csv(path_eval, sep=',', header=None, names=columns)\n",
    "#df_eval.head(5)\n",
    "print(df_eval.shape)"
   ]
  },
  {
   "cell_type": "code",
   "execution_count": null,
   "metadata": {},
   "outputs": [],
   "source": [
    "# The model arguments\n",
    "\n",
    "model_args = Seq2SeqArgs()\n",
    "model_args.num_train_epochs = 4\n",
    "model_args.train_batch_size = 16\n",
    "model_args.max_length = 256\n",
    "model_args.max_seq_length = 256\n",
    "model_args.do_sample = True\n",
    "model_args.early_stopping = True\n",
    "model_args.fp16 = False\n",
    "model_args.do_lower_case = True\n",
    "model_args.learning_rate = 5e-5\n",
    "model_args.num_beams = None\n",
    "model_args.num_return_sequences = 1\n",
    "model_args.overwrite_output_dir = True\n",
    "model_args.reprocess_input_data = True\n",
    "model_args.top_k = 50\n",
    "model_args.top_p = 0.95\n",
    "model_args.dataloader_num_workers = 1\n",
    "model_args.process_count = 1\n",
    "model_args.use_multiprocessing = False\n",
    "model_args.wandb_project = \"Finetuning \"+dataset+\" dataset of SSCORPUS with BART model\"\n",
    "#model_args.output_dir = \"outputs/multi_label_false/\"+dataset+\"/\"\n",
    "model_args.output_dir = \"outputs/multi_label_false/tmp/\""
   ]
  },
  {
   "cell_type": "code",
   "execution_count": null,
   "metadata": {},
   "outputs": [],
   "source": [
    "# Initialize the model\n",
    "model = Seq2SeqModel(\n",
    "    encoder_decoder_type=\"bart\",\n",
    "    encoder_decoder_name=\"facebook/bart-large-cnn\",\n",
    "    use_cuda=True,\n",
    "    args=model_args\n",
    ")"
   ]
  },
  {
   "cell_type": "code",
   "execution_count": null,
   "metadata": {},
   "outputs": [],
   "source": [
    "# Train the model\n",
    "model.train_model(df_train, eval_data=df_eval)"
   ]
  },
  {
   "cell_type": "code",
   "execution_count": null,
   "metadata": {},
   "outputs": [],
   "source": [
    "# Evaluate the model\n",
    "model.eval_model(df_eval)"
   ]
  },
  {
   "cell_type": "code",
   "execution_count": null,
   "metadata": {},
   "outputs": [],
   "source": []
  }
 ],
 "metadata": {
  "kernelspec": {
   "display_name": "Python 3",
   "language": "python",
   "name": "python3"
  },
  "language_info": {
   "codemirror_mode": {
    "name": "ipython",
    "version": 3
   },
   "file_extension": ".py",
   "mimetype": "text/x-python",
   "name": "python",
   "nbconvert_exporter": "python",
   "pygments_lexer": "ipython3",
   "version": "3.7.3"
  }
 },
 "nbformat": 4,
 "nbformat_minor": 4
}
